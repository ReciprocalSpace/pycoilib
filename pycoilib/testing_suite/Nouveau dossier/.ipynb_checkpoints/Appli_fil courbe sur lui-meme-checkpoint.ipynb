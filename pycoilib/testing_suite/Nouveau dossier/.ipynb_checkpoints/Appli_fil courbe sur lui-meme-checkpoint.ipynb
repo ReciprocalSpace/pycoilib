{
 "cells": [
  {
   "cell_type": "code",
   "execution_count": 1,
   "metadata": {},
   "outputs": [
    {
     "ename": "ModuleNotFoundError",
     "evalue": "No module named 'pycoilib.inductance'",
     "output_type": "error",
     "traceback": [
      "\u001b[1;31m---------------------------------------------------------------------------\u001b[0m",
      "\u001b[1;31mModuleNotFoundError\u001b[0m                       Traceback (most recent call last)",
      "\u001b[1;32m<ipython-input-1-5da392e7fceb>\u001b[0m in \u001b[0;36m<module>\u001b[1;34m\u001b[0m\n\u001b[0;32m     10\u001b[0m \u001b[1;33m\u001b[0m\u001b[0m\n\u001b[0;32m     11\u001b[0m \u001b[1;32mimport\u001b[0m \u001b[0mpycoilib\u001b[0m \u001b[1;32mas\u001b[0m \u001b[0mpycoil\u001b[0m\u001b[1;33m\u001b[0m\u001b[1;33m\u001b[0m\u001b[0m\n\u001b[1;32m---> 12\u001b[1;33m \u001b[1;32mfrom\u001b[0m \u001b[0mpycoilib\u001b[0m\u001b[1;33m.\u001b[0m\u001b[0minductance\u001b[0m \u001b[1;32mimport\u001b[0m \u001b[0mcalc_M_2arcs\u001b[0m\u001b[1;33m\u001b[0m\u001b[1;33m\u001b[0m\u001b[0m\n\u001b[0m\u001b[0;32m     13\u001b[0m \u001b[1;32mfrom\u001b[0m \u001b[0mpycoilib\u001b[0m\u001b[1;33m.\u001b[0m\u001b[0mshape\u001b[0m \u001b[1;32mimport\u001b[0m \u001b[0mArc\u001b[0m\u001b[1;33m,\u001b[0m \u001b[0mLine\u001b[0m\u001b[1;33m,\u001b[0m \u001b[0mLoop\u001b[0m\u001b[1;33m\u001b[0m\u001b[1;33m\u001b[0m\u001b[0m\n\u001b[0;32m     14\u001b[0m \u001b[1;33m\u001b[0m\u001b[0m\n",
      "\u001b[1;31mModuleNotFoundError\u001b[0m: No module named 'pycoilib.inductance'"
     ]
    }
   ],
   "source": [
    "import numpy as np\n",
    "from numpy import cos, sin, arctan2 as atan, sqrt, pi as π, sign, log\n",
    "import matplotlib.pyplot as plt\n",
    "from mpl_toolkits.mplot3d import Axes3D\n",
    "from scipy.spatial.transform import Rotation\n",
    "from scipy.integrate import quad\n",
    "from scipy.special import ellipk as ellK,  ellipe as ellE\n",
    "from scipy.special import ellipkinc as ellK_inc,  ellipeinc as ellE_inc\n",
    "from scipy.constants import mu_0 as μ0\n",
    "\n",
    "import pycoilib as pycoil\n",
    "from pycoilib.inductance import calc_M_2arcs\n",
    "from pycoilib.shape import Arc, Line, Circle\n",
    "\n",
    "plt.rc('xtick',labelsize=8)\n",
    "plt.rc('ytick',labelsize=8)\n",
    "plt.rc('lines', linewidth=2)\n",
    "plt.rc('font', size=9)\n",
    "\n",
    "vec_x=np.array([1.,0.,0.])\n",
    "vec_y=np.array([0.,1.,0.])\n",
    "vec_z=np.array([0.,0.,1.])\n",
    "vec_0=np.array([0.,0.,0.])"
   ]
  },
  {
   "cell_type": "markdown",
   "metadata": {},
   "source": [
    "# Calcul de l'inductance"
   ]
  },
  {
   "cell_type": "code",
   "execution_count": 2,
   "metadata": {},
   "outputs": [
    {
     "ename": "NameError",
     "evalue": "name 'Line' is not defined",
     "output_type": "error",
     "traceback": [
      "\u001b[1;31m---------------------------------------------------------------------------\u001b[0m",
      "\u001b[1;31mNameError\u001b[0m                                 Traceback (most recent call last)",
      "\u001b[1;32m<ipython-input-2-ce57cdf01273>\u001b[0m in \u001b[0;36m<module>\u001b[1;34m\u001b[0m\n\u001b[0;32m      9\u001b[0m \u001b[1;33m\u001b[0m\u001b[0m\n\u001b[0;32m     10\u001b[0m \u001b[1;31m# Premier cas : line\u001b[0m\u001b[1;33m\u001b[0m\u001b[1;33m\u001b[0m\u001b[1;33m\u001b[0m\u001b[0m\n\u001b[1;32m---> 11\u001b[1;33m \u001b[0mline\u001b[0m \u001b[1;33m=\u001b[0m \u001b[0mLine\u001b[0m\u001b[1;33m(\u001b[0m\u001b[0mnp\u001b[0m\u001b[1;33m.\u001b[0m\u001b[0marray\u001b[0m\u001b[1;33m(\u001b[0m\u001b[1;33m[\u001b[0m\u001b[1;36m0.\u001b[0m\u001b[1;33m,\u001b[0m\u001b[1;36m0.\u001b[0m\u001b[1;33m,\u001b[0m\u001b[1;36m0.\u001b[0m\u001b[1;33m]\u001b[0m\u001b[1;33m)\u001b[0m\u001b[1;33m,\u001b[0m \u001b[0mnp\u001b[0m\u001b[1;33m.\u001b[0m\u001b[0marray\u001b[0m\u001b[1;33m(\u001b[0m\u001b[1;33m[\u001b[0m\u001b[1;36m0.\u001b[0m\u001b[1;33m,\u001b[0m\u001b[1;36m0.\u001b[0m\u001b[1;33m,\u001b[0m\u001b[0mell\u001b[0m\u001b[1;33m]\u001b[0m\u001b[1;33m)\u001b[0m\u001b[1;33m)\u001b[0m\u001b[1;33m\u001b[0m\u001b[1;33m\u001b[0m\u001b[0m\n\u001b[0m\u001b[0;32m     12\u001b[0m \u001b[0mcoil\u001b[0m \u001b[1;33m=\u001b[0m \u001b[0mpycoil\u001b[0m\u001b[1;33m.\u001b[0m\u001b[0mcoil\u001b[0m\u001b[1;33m.\u001b[0m\u001b[0mCoil\u001b[0m\u001b[1;33m(\u001b[0m\u001b[1;33m[\u001b[0m\u001b[0mline\u001b[0m\u001b[1;33m]\u001b[0m\u001b[1;33m,\u001b[0m \u001b[0mwire\u001b[0m\u001b[1;33m)\u001b[0m\u001b[1;33m\u001b[0m\u001b[1;33m\u001b[0m\u001b[0m\n\u001b[0;32m     13\u001b[0m \u001b[0mI\u001b[0m\u001b[1;33m.\u001b[0m\u001b[0mappend\u001b[0m\u001b[1;33m(\u001b[0m\u001b[0mcoil\u001b[0m\u001b[1;33m.\u001b[0m\u001b[0mcalc_I\u001b[0m\u001b[1;33m(\u001b[0m\u001b[1;33m)\u001b[0m\u001b[1;33m)\u001b[0m\u001b[1;33m\u001b[0m\u001b[1;33m\u001b[0m\u001b[0m\n",
      "\u001b[1;31mNameError\u001b[0m: name 'Line' is not defined"
     ]
    }
   ],
   "source": [
    "ell = 0.10\n",
    "a = 0.001\n",
    "θ = np.linspace(0.,2*π, round(360/5+1) )\n",
    "\n",
    "\n",
    "wire = pycoil.wire.WireCircular(a)\n",
    "\n",
    "I = []\n",
    "\n",
    "# Premier cas : line\n",
    "line = Line(np.array([0.,0.,0.]), np.array([0.,0.,ell]))\n",
    "coil = pycoil.coil.Coil([line], wire)\n",
    "I.append(coil.calc_I())\n",
    "\n",
    "# Premier line : arc\n",
    "for θ_i in θ[1:]:\n",
    "    R = ell/θ_i\n",
    "    arc = Arc.from_center(vec_0, R=R, arc_angle=θ_i, arc_rot=0)\n",
    "    coil = pycoil.coil.Coil([arc], wire)\n",
    "    I.append( coil.calc_I() )\n",
    "I = np.array(I)\n",
    "\n",
    "loop = Circle(R)\n",
    "I_loop = pycoil.coil.Coil([loop], wire).calc_I()\n",
    "I_line = I[0]"
   ]
  },
  {
   "cell_type": "markdown",
   "metadata": {},
   "source": [
    "# Affichage"
   ]
  },
  {
   "cell_type": "code",
   "execution_count": 3,
   "metadata": {},
   "outputs": [
    {
     "data": {
      "image/png": "[encoded data removed]",
      "text/plain": [
       "<Figure size 184.252x141.732 with 1 Axes>"
      ]
     },
     "metadata": {
      "needs_background": "light"
     },
     "output_type": "display_data"
    }
   ],
   "source": [
    "\n",
    "fig = plt.figure(figsize=(6.5/2.54, 5./2.54))\n",
    "ax = plt.gca()\n",
    "\n",
    "plt.plot(θ/(2*π), I/1e-9, )\n",
    "plt.plot(θ/(2*π), I**0*I_line/1e-9, \"gray\",lw=1, alpha=0.5)\n",
    "plt.plot(θ/(2*π), I**0*I_loop/1e-9, \"gray\",lw=1, alpha=0.5)\n",
    "\n",
    "#ax.set_ylim([55,90])\n",
    "ax.set_xlabel(r\"Arc angle [$2\\pi$]\")\n",
    "ax.set_ylabel(r\"Inductance [nH]\")\n",
    "\n",
    "props = dict(boxstyle='round', facecolor='wheat', alpha=0.5)\n",
    "ax.text(0.05, 0.18, r\"Self of a Circle\", transform=ax.transAxes, fontsize=8,\n",
    "        verticalalignment='top', c=\"gray\")\n",
    "\n",
    "ax.text(0.60, 0.92, r\"Self of a line\", transform=ax.transAxes, fontsize=8,\n",
    "        verticalalignment='top',c=\"gray\" )\n",
    "\n",
    "ax.text(0.60, 0.92, r\"Self of a line\", transform=ax.transAxes, fontsize=8,\n",
    "        verticalalignment='top',c=\"gray\" )\n",
    "\n",
    "\n",
    "fig.tight_layout()\n",
    "fig.savefig(\"Appli-fil-courbe.png\", dpi=300)\n",
    "plt.show()"
   ]
  },
  {
   "cell_type": "code",
   "execution_count": null,
   "metadata": {},
   "outputs": [],
   "source": [
    "T = [1/8, 3/4, ]"
   ]
  }
 ],
 "metadata": {
  "kernelspec": {
   "display_name": "Python 3",
   "language": "python",
   "name": "python3"
  },
  "language_info": {
   "codemirror_mode": {
    "name": "ipython",
    "version": 3
   },
   "file_extension": ".py",
   "mimetype": "text/x-python",
   "name": "python",
   "nbconvert_exporter": "python",
   "pygments_lexer": "ipython3",
   "version": "3.7.9"
  }
 },
 "nbformat": 4,
 "nbformat_minor": 4
}
