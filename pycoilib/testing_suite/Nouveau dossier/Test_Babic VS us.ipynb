{
 "cells": [
  {
   "cell_type": "code",
   "execution_count": 15,
   "metadata": {},
   "outputs": [],
   "source": [
    "import numpy as np\n",
    "from numpy import cos, sin, arctan2 as atan, sqrt, pi as π, sign, log\n",
    "import matplotlib.pyplot as plt\n",
    "from mpl_toolkits.mplot3d import Axes3D\n",
    "\n",
    "import random\n",
    "from scipy.spatial.transform import Rotation\n",
    "from scipy.integrate import quad\n",
    "from scipy.special import ellipk as ellK,  ellipe as ellE\n",
    "from scipy.special import ellipkinc as ellK_inc,  ellipeinc as ellE_inc\n",
    "from scipy.constants import mu_0 as μ0\n",
    "\n",
    "import pycoilib as pycoil\n",
    "from pycoilib.inductance import calc_M_2arcs\n",
    "from pycoilib.shape import Arc, Line, Circle\n",
    "\n",
    "plt.rc('xtick',labelsize=8)\n",
    "plt.rc('ytick',labelsize=8)\n",
    "plt.rc('lines', linewidth=2)\n",
    "plt.rc('font', size=9)\n",
    "\n",
    "_vec_x=np.array([1.,0.,0.])\n",
    "_vec_y=np.array([0.,1.,0.])\n",
    "_vec_z=np.array([0.,0.,1.])\n",
    "_vec_0=np.array([0.,0.,0.])"
   ]
  },
  {
   "cell_type": "markdown",
   "metadata": {},
   "source": [
    "# Fonctions utiles"
   ]
  },
  {
   "cell_type": "code",
   "execution_count": 4,
   "metadata": {},
   "outputs": [],
   "source": [
    "def rand(n=1):\n",
    "    return np.array([random.random() for i in range(n)])\n",
    "\n",
    "def random_vec_on_sphere(n=1):\n",
    "    φ = rand(n) *2*π\n",
    "    θ = np.arccos( rand(n)*2-1 )\n",
    "    \n",
    "    n_vec = np.array([ [np.cos(θ_i)*np.sin(φ_i),\n",
    "                        np.sin(θ_i)*np.sin(φ_i),\n",
    "                        np.cos(φ_i)] for θ_i, φ_i in zip(θ, φ) ] )\n",
    "    return n_vec"
   ]
  },
  {
   "cell_type": "markdown",
   "metadata": {},
   "source": [
    "# Boucle secondaire complètement random"
   ]
  },
  {
   "cell_type": "code",
   "execution_count": 6,
   "metadata": {},
   "outputs": [],
   "source": [
    "# Init \n",
    "R_p =1\n",
    "Rmax = 10\n",
    "n = 1000\n",
    "\n",
    "# Propriétés aléatoires du secondaire\n",
    "random.seed(1)   \n",
    "R_s = rand(n)*(10-0.1)*R_p + 0.1*R_p\n",
    "vec_n = random_vec_on_sphere(n)\n",
    "s0 = np.cbrt(rand(n))*Rmax\n",
    "\n",
    "vec_s0_u=random_vec_on_sphere(n)\n",
    "vec_s0 = np.array( [ s0_u_i*s0_i for s0_u_i, s0_i in zip(vec_s0_u, s0)] )\n",
    "\n",
    "# Début calcul\n",
    "M_our = []\n",
    "M_bab = []\n",
    "loop1 = Circle(R_p)\n",
    "for R_si, vec_ni, vec_s0i in zip(R_s, vec_n, vec_s0):\n",
    "    loop2 = Circle.from_normal(R_si, vec_s0i, vec_ni)\n",
    "\n",
    "    m_our, err = pycoil.inductance.calc_M(loop1, loop2) \n",
    "    m_bab, err = pycoil.inductance.calc_M_Babic(R_p, R_si, vec_s0i, vec_ni)\n",
    "\n",
    "    M_our.append(m_our)\n",
    "    M_bab.append(m_bab)\n",
    "\n",
    "M_our = np.array(M_our)\n",
    "M_bab = np.array(M_bab) \n"
   ]
  },
  {
   "cell_type": "code",
   "execution_count": 12,
   "metadata": {},
   "outputs": [
    {
     "data": {
      "image/png": "[encoded data removed]",
      "text/plain": [
       "<Figure size 212.598x155.906 with 1 Axes>"
      ]
     },
     "metadata": {
      "needs_background": "light"
     },
     "output_type": "display_data"
    }
   ],
   "source": [
    "# affichage\n",
    "prop_cycle = plt.rcParams['axes.prop_cycle']\n",
    "colors = prop_cycle.by_key()['color']\n",
    "\n",
    "fig = plt.figure(figsize=(7.5/2.54, 5.5/2.54))\n",
    "ax = plt.gca()\n",
    "\n",
    "xy = [min(M_our.min(), M_bab.min())*1e6, max(M_our.max(), M_bab.max())*1e6 ] # droite y=x\n",
    "ax.plot(xy,xy, alpha=0.8, c=colors[1])\n",
    "\n",
    "ax.plot(M_our*1e6, M_bab*1e6, 'o',c=colors[0],  markersize=2) #data\n",
    "ax.legend([\"y=x\"])\n",
    "ax.set_xlabel(r\"Mutual (our approach) [μH]\")\n",
    "ax.set_ylabel(r\"Mutual (Babic 2010) [μH]\")\n",
    "\n",
    "\n",
    "fig.tight_layout()\n",
    "fig.savefig(\"BabicVSus.png\", dpi=300)\n",
    "plt.show()\n",
    "\n",
    "# plt.plot(M_our-M_bab,\"*\",markersize=2)\n",
    "\n",
    "\n",
    "# ax.set_xlabel(r\"Inductance (our approach) [mm]\")\n",
    "# ax.set_ylabel(r\"Mutual inductance [μH]\")\n",
    "# plt.show()\n",
    "\n",
    "# plt.hist(M_our-M_bab, bins=50)\n",
    "# plt.plot()"
   ]
  },
  {
   "cell_type": "markdown",
   "metadata": {},
   "source": [
    "# 2 Arcs, dont le 2e complètement random"
   ]
  },
  {
   "cell_type": "code",
   "execution_count": 22,
   "metadata": {},
   "outputs": [],
   "source": [
    "# Init \n",
    "R_p =1\n",
    "Rmax = 10\n",
    "n = 1000\n",
    "\n",
    "# Propriétés aléatoires du secondaire\n",
    "random.seed(1)   \n",
    "R_s = rand(n)*(10-0.1)*R_p + 0.1*R_p\n",
    "vec_z = random_vec_on_sphere(n)\n",
    "s0 = np.cbrt(rand(n))*Rmax\n",
    "\n",
    "vec_s0_u=random_vec_on_sphere(n)\n",
    "vec_s0 = np.array( [ s0_u_i*s0_i for s0_u_i, s0_i in zip(vec_s0_u, s0)] )\n",
    "\n",
    "arc_angle = rand(n)*2*π\n",
    "\n",
    "vec_t = random_vec_on_sphere(n)\n",
    "\n",
    "vec_x = np.zeros_like(vec_t)\n",
    "for i, (ti, zi) in enumerate(zip(vec_t, vec_z)):\n",
    "    tmp = ti-(ti@zi)*zi\n",
    "    vec_x[i] = tmp/np.sqrt(tmp@tmp)\n",
    "\n",
    "vec_y = np.cross(vec_z, vec_x)\n",
    "# Début calcul\n",
    "M_arcs = []\n",
    "M_loop = []\n",
    "\n",
    "arc1 = Arc(_vec_0, R_p, 2*π, _vec_x, _vec_y, _vec_z)\n",
    "loop = Circle(R_p)\n",
    "\n",
    "for R_si, vec_zi, vec_s0i, vec_yi, vec_xi, arc_angle_i in zip(R_s, vec_z, vec_s0, vec_y, vec_x, arc_angle):\n",
    "    arc2 = Arc(vec_s0i, R_si,arc_angle_i,vec_xi, vec_yi, vec_zi)\n",
    "\n",
    "    m_arcs, err = pycoil.inductance.calc_M_2arcs(arc2, arc1) \n",
    "    m_loop, err = pycoil.inductance.calc_M_arcNloop(arc2, loop)\n",
    "\n",
    "    M_arcs.append(m_arcs)\n",
    "    M_loop.append(m_loop)\n",
    "\n",
    "M_arcs = np.array(M_arcs)\n",
    "M_loop = np.array(M_loop) "
   ]
  },
  {
   "cell_type": "code",
   "execution_count": 23,
   "metadata": {},
   "outputs": [
    {
     "data": {
      "image/png": "[encoded data removed]",
      "text/plain": [
       "<Figure size 212.598x155.906 with 1 Axes>"
      ]
     },
     "metadata": {
      "needs_background": "light"
     },
     "output_type": "display_data"
    }
   ],
   "source": [
    "# Affichage\n",
    "prop_cycle = plt.rcParams['axes.prop_cycle']\n",
    "colors = prop_cycle.by_key()['color']\n",
    "\n",
    "fig = plt.figure(figsize=(7.5/2.54, 5.5/2.54))\n",
    "ax = plt.gca()\n",
    "\n",
    "xy = [min(M_loop.min(), M_arcs.min())*1e6, max(M_arcs.max(), M_loop.max())*1e6 ] # droite y=x\n",
    "ax.plot(xy,xy, alpha=0.8, c=colors[1])\n",
    "\n",
    "ax.plot(M_arcs*1e6, M_loop*1e6, 'o', c=colors[0],  markersize=2) #data\n",
    "ax.legend([\"y=x\"])\n",
    "ax.set_xlabel(r\"Mutual (2 arcs) [μH]\")\n",
    "ax.set_ylabel(r\"Mutual (loop & arc) [μH]\")\n",
    "\n",
    "fig.tight_layout()\n",
    "fig.savefig(\"arcNloop VS 2arcs.png\", dpi=300)\n",
    "plt.show()\n",
    "\n"
   ]
  },
  {
   "cell_type": "markdown",
   "metadata": {},
   "source": []
  },
  {
   "cell_type": "code",
   "execution_count": null,
   "metadata": {},
   "outputs": [],
   "source": []
  },
  {
   "cell_type": "code",
   "execution_count": null,
   "metadata": {},
   "outputs": [],
   "source": []
  },
  {
   "cell_type": "markdown",
   "metadata": {},
   "source": []
  },
  {
   "cell_type": "code",
   "execution_count": null,
   "metadata": {},
   "outputs": [],
   "source": []
  }
 ],
 "metadata": {
  "kernelspec": {
   "display_name": "Python 3",
   "language": "python",
   "name": "python3"
  },
  "language_info": {
   "codemirror_mode": {
    "name": "ipython",
    "version": 3
   },
   "file_extension": ".py",
   "mimetype": "text/x-python",
   "name": "python",
   "nbconvert_exporter": "python",
   "pygments_lexer": "ipython3",
   "version": "3.7.9"
  }
 },
 "nbformat": 4,
 "nbformat_minor": 4
}
